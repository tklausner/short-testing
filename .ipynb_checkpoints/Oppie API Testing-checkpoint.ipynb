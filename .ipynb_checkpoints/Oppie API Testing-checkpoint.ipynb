{
 "cells": [
  {
   "cell_type": "markdown",
   "metadata": {},
   "source": [
    "# Test Scenario Node.js"
   ]
  },
  {
   "cell_type": "markdown",
   "metadata": {},
   "source": [
    "### Test Code"
   ]
  },
  {
   "cell_type": "markdown",
   "metadata": {},
   "source": [
    "```javascript\n",
    "async function start() { \n",
    "    console.time();\n",
    "    // Require the short library with an API key.\n",
    "    const short = require('@oppie/short')('7c99f806023f4ead9bd40b6ac2644969');\n",
    "\n",
    "    // Create a new message containing the content to be condensed.\n",
    "    const msg = await short.digest({\n",
    "    content: 'Jean-Christophe Demarta, an advertising executive at The Times, recently told Digiday that even with G.D.P.R.-related changes, The Times’s “digital advertising business continues to grow nicely.” If people everywhere should have the same fundamental rights to privacy as Europeans, and if providing privacy is not unduly harming revenue, why shouldn’t The Times provide enhanced privacy to all its readers? Readers everywhere could then be more confident that their interests in politics, health and other sensitive topics would not be subject to government surveillance or sold to the highest bidder. In the same way The Times leads in high-quality news coverage, it could also lead in respecting reader privacy.'\n",
    "    });\n",
    "    console.log(msg);\n",
    "    console.timeEnd();\n",
    "    return msg;\n",
    "}\n",
    "start() \n",
    "```"
   ]
  },
  {
   "cell_type": "markdown",
   "metadata": {},
   "source": [
    "1. Input text into content variable\n",
    "2. Run script above in console with: $ node <~file-path>\n",
    "3. Log readout in console"
   ]
  },
  {
   "cell_type": "markdown",
   "metadata": {},
   "source": [
    "### Test Case #1"
   ]
  },
  {
   "cell_type": "markdown",
   "metadata": {},
   "source": [
    "**Input Text:** Jean-Christophe Demarta, an advertising executive at The Times, recently told Digiday that even with G.D.P.R.-related changes, The Times’s “digital advertising business continues to grow nicely.” If people everywhere should have the same fundamental rights to privacy as Europeans, and if providing privacy is not unduly harming revenue, why shouldn’t The Times provide enhanced privacy to all its readers? Readers everywhere could then be more confident that their interests in politics, health and other sensitive topics would not be subject to government surveillance or sold to the highest bidder. In the same way The Times leads in high-quality news coverage, it could also lead in respecting reader privacy.\n",
    "\n",
    "**Output Text:** Jean-Christophe Demarta, an advertising executive at The Times, recently told Digiday that even with G.D.P.R.-related changes, The Times’s “digital advertising business continues to grow nicely.” If people everywhere should have the same fundamental rights to privacy as Europeans, and if providing privacy is not unduly harming revenue, why shouldn’t The Times provide enhanced privacy to all its readers? Readers everywhere could then be more confident that their interests in politics, health and other sensitive topics would not be subject to government surveillance or sold to the highest bidder.</p>\n",
    "\n",
    "**Input Length:** 713\n",
    "\n",
    "**Output Length:** 601\n",
    "\n",
    "**Reduction:** 0.1570827489481066\n",
    "\n",
    "**Runtime (ms):** 6708.505\n",
    "\n",
    "**Reference:** https://www.nytimes.com/2019/09/18/opinion/data-privacy-tracking.html\n",
    "***"
   ]
  },
  {
   "cell_type": "markdown",
   "metadata": {},
   "source": [
    "### Test Case #2"
   ]
  },
  {
   "cell_type": "markdown",
   "metadata": {},
   "source": [
    "**Input Text:** \"How is this?\" said the Emperor to himself. \"I can see nothing! This is indeed a terrible affair! Am I a simpleton, or am I unfit to be an Emperor? That would be the worst thing that could happen--Oh! the cloth is charming,\" said he, aloud. \"It has my complete approbation.\" And he smiled most graciously, and looked closely at the empty looms; for on no account would he say that he could not see what two of the officers of his court had praised so much. All his retinue now strained their eyes, hoping to discover something on the looms, but they could see no more than the others; nevertheless, they all exclaimed, \"Oh, how beautiful!\" and advised his majesty to have some new clothes made from this splendid material, for the approaching procession. \"Magnificent! Charming! Excellent!\" resounded on all sides; and everyone was uncommonly gay. The Emperor shared in the general satisfaction; and presented the impostors with the riband of an order of knighthood, to be worn in their button-holes, and the title of \"Gentlemen Weavers.\"\n",
    "\n",
    "**Output Text:** This is indeed a terrible affair! resounded on all sides; and everyone was uncommonly gay. \"It has my complete approbation.\" and advised his majesty to have some new clothes made from this splendid material, for the approaching procession.\n",
    "\n",
    "**Input Length:** 1038\n",
    "\n",
    "**Output Length:** 239\n",
    "\n",
    "**Reduction:** 0.7697495183044316\n",
    "\n",
    "**Runtime (ms):** 9513.668\n",
    "\n",
    "**Reference:** https://www.gutenberg.org/files/1597/1597-h/1597-h.htm\n",
    "***"
   ]
  },
  {
   "cell_type": "markdown",
   "metadata": {},
   "source": [
    "### Test Case #3"
   ]
  },
  {
   "cell_type": "markdown",
   "metadata": {},
   "source": [
    "**Input Text:** We hold these truths to be self-evident, that all men are created equal, that they are endowed by their Creator with certain unalienable Rights, that among these are Life, Liberty, and the pursuit of Happiness.â€”That to secure these rights, Governments are instituted among Men, deriving their just powers from the consent of the governed,â€”That whenever any Form of Government becomes destructive of these ends, it is the Right of the People to alter or to abolish it, and to institute new Government, laying its foundation on such principles and organizing its powers in such form, as to them shall seem most likely to effect their Safety and Happiness. Prudence, indeed, will dictate that Governments long established should not be changed for light and transient causes; and accordingly all experience hath shown, that mankind are more disposed to suffer, while evils are sufferable, than to right themselves by abolishing the forms to which they are accustomed. But when a long train of abuses and usurpations, pursuing invariably the same Object evinces a design to reduce them under absolute Despotism, it is their right, it is their duty, to throw off such Government, and to provide new Guards for their future security.â€”Such has been the patient sufferance of these Colonies; and such is now the necessity which constrains them to alter their former Systems of Government. The history of the present King of Great Britain is a history of repeated injuries and usurpations, all having in direct object the establishment of an absolute Tyranny over these States. To prove this, let Facts be submitted to a candid world.\n",
    "\n",
    "**Output Text:** But when a long train of abuses and usurpations, pursuing invariably the same Object evinces a design to reduce them under absolute Despotism, it is their right, it is their duty, to throw off such Government, and to provide new Guards for their future security.â€”Such has been the patient sufferance of these Colonies; and such is now the necessity which constrains them to alter their former Systems of Government. The history of the present King of Great Britain is a history of repeated injuries and usurpations, all having in direct object the establishment of an absolute Tyranny over these States. To prove this, let Facts be submitted to a candid world.\n",
    "\n",
    "**Input Length:** 1631\n",
    "\n",
    "**Output Length:** 662\n",
    "\n",
    "**Reduction:** 0.5941140404659717\n",
    "\n",
    "**Runtime (ms):** 12925.544\n",
    "\n",
    "**Reference:** http://www.gutenberg.org/cache/epub/1/pg1.txt\n",
    "***"
   ]
  },
  {
   "cell_type": "markdown",
   "metadata": {},
   "source": [
    "### Test Case #4"
   ]
  },
  {
   "cell_type": "markdown",
   "metadata": {},
   "source": [
    "**Input Text:** It has been said of old, all roads lead to Rome.  In paraphrased application to the tendencies of our day, it may truly be said that all roads lead to the great social reconstruction.  The economic awakening of the workingman, and his realization of the necessity for concerted industrial action; the tendencies of modern education, especially in their application to the free development of the child; the spirit of growing unrest expressed through, and cultivated by, art and literature, all pave the way to the Open Road.  Above all, the modern drama, operating through the double channel of dramatist and interpreter, affecting as it does both mind and heart, is the strongest force in developing social discontent, swelling the powerful tide of unrest that sweeps onward and over the dam of ignorance, prejudice, and superstition.\n",
    "\n",
    "**Output Text:** It has been said of old, all roads lead to Rome. Above all, the modern drama, operating through the double channel of dramatist and interpreter, affecting as it does both mind and heart, is the strongest force in developing social discontent, swelling the powerful tide of unrest that sweeps onward and over the dam of ignorance, prejudice, and superstition.\n",
    "\n",
    "**Input Length:** 835\n",
    "\n",
    "**Output Length:** 358\n",
    "\n",
    "**Reduction:** 0.5712574850299401\n",
    "\n",
    "**Runtime (ms):** 5228.007\n",
    "\n",
    "**Reference:** http://www.gutenberg.org/cache/epub/2162/pg2162.txt\n",
    "***"
   ]
  },
  {
   "cell_type": "markdown",
   "metadata": {},
   "source": [
    "### Test Case #5"
   ]
  },
  {
   "cell_type": "markdown",
   "metadata": {},
   "source": [
    "**Input Text:** American Crossbills are notable for their small size, being considered and described as dwarfs of the family. Their food consists exclusively of pine, fir, and larch, which accounts for the fact that they are more numerous in Northern latitudes where these trees abound. When the cones are abundant they visit in great numbers many places where they have not been for years, appearing at irregular intervals, and not confining themselves to particular localities.\n",
    "\n",
    "**Output Text:** American Crossbills are notable for their small size, being considered and described as dwarfs of the family. Their food consists exclusively of pine, fir, and larch, which accounts for the fact that they are more numerous in Northern latitudes where these trees abound.\n",
    "\n",
    "**Input Length:** 464\n",
    "\n",
    "**Output Length:** 270\n",
    "\n",
    "**Reduction:** 0.4181034482758621\n",
    "\n",
    "**Runtime (ms):** 3202.834\n",
    "\n",
    "**Reference:** http://www.gutenberg.org/files/25874/25874-h/25874-h.htm\n",
    "***"
   ]
  },
  {
   "cell_type": "markdown",
   "metadata": {},
   "source": [
    "### Test Case #6"
   ]
  },
  {
   "cell_type": "markdown",
   "metadata": {},
   "source": [
    "**Input Text:** Forests are a great bulwark against climate change, so programs to reduce deforestation are important. Those efforts usually focus on stopping the destruction in areas where it is already occurring. But a new study suggests these programs would do well to also preserve forests where deforestation and degradation haven’t begun. Gradual loss of these largely pristine, intact forests has a much greater climate impact than previously accounted for, the researchers said. Globally, forests take more than a quarter of the carbon emissions from human activities out of the atmosphere every year. Intact forests are especially effective at storing carbon — although only about 20 percent of tropical forests are considered relatively pristine, they are responsible for about 40 percent of carbon storage in the tropics. The study, by researchers from the Wildlife Conservation Society, the University of Queensland in Australia and other institutions, analyzed carbon emissions from the loss of intact tropical forests worldwide from 2000 to 2013. What on Earth Is Going On? Immediate clearing of intact forests, what might be considered  classic  deforestation, over that period accounted for about 3 percent of global emissions from deforestation in all tropical forests, the researchers said. But when they looked at other, more gradual types of loss and disturbance — forests that had been opened to selective logging for firewood, for example, or road-building that exposed more trees to drying or windy conditions — they found that the carbon impact increased sixfold over the period. It’s alarming, because there are huge amounts of intact forest being disturbed every year,  said Tom Evans, who leads the forest conservation program at the Wildlife Conservation Society and was a co-author of the paper, which was published in Science Advances. Worldwide in the first decade and a half of the 21st century, about 9 percent of intact forests were opened up to degradation and deforestation. The study amounts to a more complete accounting of the carbon impact of forest loss. Some of the impact comes not from newly accounted-for emissions but from what the researchers called  forgone removals  — a degraded or disturbed forest takes up less carbon from the atmosphere than a fully intact one. These forests are working for us each year, soaking up large amounts of carbon,  Dr. Evans said.  But we don’t account for that when the damage happens. International programs like Reducing Emissions from Deforestation and Forest Degradation, or REDD+, are seen as a way to help limit global warming by using financial incentives to halt ongoing deforestation, thus conserving forests’ carbon-storing capabilities. But Dr. Evans said the new study showed that protecting still-undamaged forests could have a strong climate benefit as well. From a number of different angles there’s a rising realization that we need to do more than just the core REDD approach,  Dr. Evans said. For one thing, if preserving an intact forest has a climate impact six times greater than previously thought, perhaps the financial incentive to preserve it should be substantially higher, he said. I’m not sure the answer is to change REDD,  Dr. Evans added.  I suspect there’s probably some complementary approach that can be used.\n",
    "\n",
    "**Output Text:** Globally, forests take more than a quarter of the carbon emissions from human activities out of the atmosphere every year. What on Earth Is Going On? The study, by researchers from the Wildlife Conservation Society, the University of Queensland in Australia and other institutions, analyzed carbon emissions from the loss of intact tropical forests worldwide from 2000 to 2013. The study amounts to a more complete accounting of the carbon impact of forest loss. Gradual loss of these largely pristine, intact forests has a much greater climate impact than previously accounted for, the researchers said.\n",
    "\n",
    "**Input Length:** 3309\n",
    "\n",
    "**Output Length:** 604\n",
    "\n",
    "**Reduction:** 0.8174675128437594\n",
    "\n",
    "**Runtime (ms):** 18901.453\n",
    "\n",
    "**Reference:** https://www.nytimes.com/2019/10/30/climate/climate-change-forests.html\n",
    "***"
   ]
  },
  {
   "cell_type": "markdown",
   "metadata": {},
   "source": [
    "### Test Case #7"
   ]
  },
  {
   "cell_type": "markdown",
   "metadata": {},
   "source": [
    "**Input Text:** My dear Sister,  I write a few lines in haste to say that I am safe—and well advanced on my voyage.  This letter will reach England by a merchantman now on its homeward voyage from Archangel; more fortunate than I, who may not see my native land, perhaps, for many years.  I am, however, in good spirits:  my men are bold and apparently firm of purpose, nor do the floating sheets of ice that continually pass us, indicating the dangers of the region towards which we are advancing, appear to dismay them. We have already reached a very high latitude; but it is the height of summer, and although not so warm as in England, the southern gales, which blow us speedily towards those shores which I so ardently desire to attain, breathe a degree of renovating warmth which I had not expected.  No incidents have hitherto befallen us that would make a figure in a letter.  One or two stiff gales and the springing of a leak are accidents which experienced navigators scarcely remember to record, and I shall be well content if nothing worse happen to us during our voyage.  Adieu, my dear Margaret.  Be assured that for my own sake, as well as yours, I will not rashly encounter danger.  I will be cool, persevering, and prudent.  But success _shall_ crown my endeavours.  Wherefore not?  Thus far I have gone, tracing a secure way over the pathless seas, the very stars themselves being witnesses and testimonies of my triumph.  Why not still proceed over the untamed yet obedient element?  What can stop the determined heart and resolved will of man?  My swelling heart involuntarily pours itself out thus.  But I must finish.  Heaven bless my beloved sister!  R.W.\n",
    "\n",
    "**Output Text:** Thus far I have gone, tracing a secure way over the pathless seas, the very stars themselves being witnesses and testimonies of my triumph. But success _shall_ crown my endeavours. Adieu, my dear Margaret. Why not still proceed over the untamed yet obedient element? Wherefore not?\n",
    "\n",
    "**Input Length:** 1663\n",
    "\n",
    "**Output Length:** 281\n",
    "\n",
    "**Reduction:** 0.8310282621767889\n",
    "\n",
    "**Runtime (ms):** 11626.265\n",
    "\n",
    "**Reference:** https://www.gutenberg.org/files/84/84-0.txt\n",
    "***"
   ]
  },
  {
   "cell_type": "markdown",
   "metadata": {},
   "source": [
    "### Test Case #8"
   ]
  },
  {
   "cell_type": "markdown",
   "metadata": {},
   "source": [
    "**Input Text:** Tell me, O Muse, of that ingenious hero who travelled far and wide after he had sacked the famous town of Troy. Many cities did he visit, and many were the nations with whose manners and customs he was acquainted; moreover he suffered much by sea while trying to save his own life and bring his men safely home; but do what he might he could not save his men, for they perished through their own sheer folly in eating the cattle of the Sun-god Hyperion; so the god prevented them from ever reaching home. Tell me, too, about all these things, oh daughter of Jove, from whatsoever source you may know them.  So now all who escaped death in battle or by shipwreck had got safely home except Ulysses, and he, though he was longing to return to his wife and country, was detained by the goddess Calypso, who had got him into a large cave and wanted to marry him. But as years went by, there came a time when the gods settled that he should go back to Ithaca; even then, however, when he was among his own people, his troubles were not yet over; nevertheless all the gods had now begun to pity him except Neptune, who still persecuted him without ceasing and would not let him get home.\n",
    "\n",
    "**Output Text:** Tell me, too, about all these things, oh daughter of Jove, from whatsoever source you may know them. Many cities did he visit, and many were the nations with whose manners and customs he was acquainted; moreover he suffered much by sea while trying to save his own life and bring his men safely home; but do what he might he could not save his men, for they perished through their own sheer folly in eating the cattle of the Sun-god Hyperion; so the god prevented them from ever reaching home. But as years went by, there came a time when the gods settled that he should go back to Ithaca; even then, however, when he was among his own people, his troubles were not yet over; nevertheless all the gods had now begun to pity him except Neptune, who still persecuted him without ceasing and would not let him get home.\n",
    "\n",
    "**Input Length:** 1181\n",
    "\n",
    "**Output Length:** 816\n",
    "\n",
    "**Reduction:** 0.30906011854360715\n",
    "\n",
    "**Runtime (ms):** 8641.673\n",
    "\n",
    "**Reference:** https://www.gutenberg.org/files/1727/1727-0.txt\n",
    "***"
   ]
  },
  {
   "cell_type": "markdown",
   "metadata": {},
   "source": [
    "### Test Case #9"
   ]
  },
  {
   "cell_type": "markdown",
   "metadata": {},
   "source": [
    "**Input Text:** It was during his second summer at Walden that Thoreau made his first visit to the Maine woods. It was probably in response to a request from Horace Greeley that he wrote out the narrative from his journal, for Mr. Greeley had shown himself eager to help Thoreau in putting his wares on the market. In a letter to Emerson, January 12, 1848, Thoreau writes:  I read a part of the story of my excursion to Ktaadn to quite a large audience of men and boys, the other night, whom it interested. It contains many facts and some poetry.  He offered the paper to Greeley at the end of March, and on the 17th of April Greeley responded:  I inclose you 25 for your article on Maine scenery, as promised. I know it is worth more, though I have not yet found time to read it; but I have tried once to sell it without success. It is rather long for my columns, and too fine for the million; but I consider it a cheap bargain, and shall print it myself if I do not dispose of it to better advantage. You will not, of course, consider yourself under any sort of obligation to me, for my offer was in the way of business, and I have got more than the worth of my money.  But this generous, high-minded friend was thinking of Thoreau's business, not his own, for in October of the same year he writes,  I break a silence of some duration to inform you that I hope on Monday to receive payment for your glorious account of 'Ktaadn and the Maine Woods,' which I bought of you at a Jew's bargain and sold to _The Union Magazine_. I am to get 75 for it, and as I don't choose to _exploiter_ you at such a rate, I shall insist on inclosing you 25 more in this letter, which will still leave me 25 to pay various charges and labors I have incurred in selling your articles and getting paid for them,--the latter by far the most difficult portion of the business.  \n",
    "\n",
    "**Output Text:** It was during his second summer at Walden that Thoreau made his first visit to the Maine woods. It contains many facts and some poetry. It is rather long for my columns, and too fine for the million; but I consider it a cheap bargain, and shall print it myself if I do not dispose of it to better advantage. But this generous, high-minded friend was thinking of Thoreau business, not his own, for in October of the same year he writes,  I break a silence of some duration to inform you that I hope on Monday to receive payment for your glorious account of Ktaadn and the Maine Woods, which I bought of you at a Jew s bargain and sold to _The Union Magazine_.'\n",
    "\n",
    "**Input Length:** 1839\n",
    "\n",
    "**Output Length:** 658\n",
    "\n",
    "**Reduction:** 0.6421968461120173\n",
    "\n",
    "**Runtime (ms):** 11667.586\n",
    "\n",
    "**Reference:** https://www.gutenberg.org/files/42500/42500-0.txt\n",
    "***"
   ]
  },
  {
   "cell_type": "markdown",
   "metadata": {},
   "source": [
    "### Test Case #10"
   ]
  },
  {
   "cell_type": "markdown",
   "metadata": {},
   "source": [
    "**Input Text:** \n",
    "\n",
    "**Output Text:** \n",
    "\n",
    "**Input Length:** \n",
    "\n",
    "**Output Length:** \n",
    "\n",
    "**Reduction:** \n",
    "\n",
    "**Runtime (ms):** \n",
    "\n",
    "**Reference:** \n",
    "***"
   ]
  },
  {
   "cell_type": "markdown",
   "metadata": {},
   "source": [
    "### Test Case #11"
   ]
  },
  {
   "cell_type": "markdown",
   "metadata": {},
   "source": [
    "**Input Text:** \n",
    "\n",
    "**Output Text:** \n",
    "\n",
    "**Input Length:** \n",
    "\n",
    "**Output Length:** \n",
    "\n",
    "**Reduction:** \n",
    "\n",
    "**Runtime (ms):** \n",
    "\n",
    "**Reference:** \n",
    "***"
   ]
  },
  {
   "cell_type": "markdown",
   "metadata": {},
   "source": [
    "### Test Case #12"
   ]
  },
  {
   "cell_type": "markdown",
   "metadata": {},
   "source": [
    "**Input Text:** \n",
    "\n",
    "**Output Text:** \n",
    "\n",
    "**Input Length:** \n",
    "\n",
    "**Output Length:** \n",
    "\n",
    "**Reduction:** \n",
    "\n",
    "**Runtime (ms):** \n",
    "\n",
    "**Reference:** \n",
    "***"
   ]
  },
  {
   "cell_type": "markdown",
   "metadata": {},
   "source": [
    "### Test Case #13"
   ]
  },
  {
   "cell_type": "markdown",
   "metadata": {},
   "source": [
    "**Input Text:** \n",
    "\n",
    "**Output Text:** \n",
    "\n",
    "**Input Length:** \n",
    "\n",
    "**Output Length:** \n",
    "\n",
    "**Reduction:** \n",
    "\n",
    "**Runtime (ms):** \n",
    "\n",
    "**Reference:** \n",
    "***"
   ]
  },
  {
   "cell_type": "markdown",
   "metadata": {},
   "source": [
    "### Test Case #14"
   ]
  },
  {
   "cell_type": "markdown",
   "metadata": {},
   "source": [
    "**Input Text:** \n",
    "\n",
    "**Output Text:** \n",
    "\n",
    "**Input Length:** \n",
    "\n",
    "**Output Length:** \n",
    "\n",
    "**Reduction:** \n",
    "\n",
    "**Runtime (ms):** \n",
    "\n",
    "**Reference:** \n",
    "***"
   ]
  },
  {
   "cell_type": "markdown",
   "metadata": {},
   "source": [
    "### Test Case #15"
   ]
  },
  {
   "cell_type": "markdown",
   "metadata": {},
   "source": [
    "**Input Text:** \n",
    "\n",
    "**Output Text:** \n",
    "\n",
    "**Input Length:** \n",
    "\n",
    "**Output Length:** \n",
    "\n",
    "**Reduction:** \n",
    "\n",
    "**Runtime (ms):** \n",
    "\n",
    "**Reference:** \n",
    "***"
   ]
  }
 ],
 "metadata": {
  "kernelspec": {
   "display_name": "Python 3",
   "language": "python",
   "name": "python3"
  },
  "language_info": {
   "codemirror_mode": {
    "name": "ipython",
    "version": 3
   },
   "file_extension": ".py",
   "mimetype": "text/x-python",
   "name": "python",
   "nbconvert_exporter": "python",
   "pygments_lexer": "ipython3",
   "version": "3.7.3"
  }
 },
 "nbformat": 4,
 "nbformat_minor": 2
}
